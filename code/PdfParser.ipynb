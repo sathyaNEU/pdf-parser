{
 "cells": [
  {
   "cell_type": "code",
   "execution_count": 1,
   "metadata": {},
   "outputs": [
    {
     "name": "stdout",
     "output_type": "stream",
     "text": [
      "Collecting pymupdf\n",
      "  Downloading pymupdf-1.25.2-cp39-abi3-win_amd64.whl (16.5 MB)\n",
      "Installing collected packages: pymupdf\n",
      "Successfully installed pymupdf-1.25.2\n"
     ]
    },
    {
     "name": "stderr",
     "output_type": "stream",
     "text": [
      "WARNING: You are using pip version 21.3.1; however, version 24.3.1 is available.\n",
      "You should consider upgrading via the 'C:\\Users\\HP\\AppData\\Local\\Programs\\Python\\Python310\\python.exe -m pip install --upgrade pip' command.\n"
     ]
    }
   ],
   "source": [
    "!pip install --upgrade pymupdf"
   ]
  },
  {
   "cell_type": "code",
   "execution_count": 5,
   "metadata": {},
   "outputs": [],
   "source": [
    "import fitz"
   ]
  },
  {
   "cell_type": "code",
   "execution_count": 66,
   "metadata": {},
   "outputs": [
    {
     "name": "stdout",
     "output_type": "stream",
     "text": [
      "Text extracted and saved to D:/BigDataIntelligence/data\\extracted_text.txt\n"
     ]
    }
   ],
   "source": [
    "import fitz  # PyMuPDF\n",
    "import os\n",
    "\n",
    "def extract_images_and_text(pdf_path, output_path):\n",
    "    pdf_document = fitz.open(pdf_path)\n",
    "    \n",
    "    text_output_file = os.path.join(output_path, \"extracted_text.txt\")\n",
    "    with open(text_output_file, \"w\", encoding=\"utf-8\") as text_file:\n",
    "    \n",
    "        for page_number in range(len(pdf_document)):\n",
    "            page = pdf_document.load_page(page_number)\n",
    "            \n",
    "            text = page.get_text(\"text\")\n",
    "            text_file.write(f\"--- Page {page_number + 1} ---\\n\")\n",
    "            text_file.write(text)\n",
    "            text_file.write(\"\\n\\n\")  \n",
    "\n",
    "            image_list = page.get_images(full=False)\n",
    "            \n",
    "            if image_list:\n",
    "                for img_index, img in enumerate(image_list):\n",
    "                    xref = img[0]  \n",
    "                    base_image = pdf_document.extract_image(xref)\n",
    "                    \n",
    "                    image_filename = f\"page_{page_number + 1}_image_{img_index + 1}.png\"\n",
    "                    image_file_path = os.path.join(output_path, image_filename)\n",
    "                    \n",
    "                    # Save the image to the output path\n",
    "                    with open(image_file_path, \"wb\") as img_file:\n",
    "                        img_file.write(base_image[\"image\"])\n",
    "                        \n",
    "    \n",
    "    # Close the PDF document\n",
    "    pdf_document.close()\n",
    "    print(f\"Text extracted and saved to {text_output_file}\")\n",
    "\n",
    "pdf_path = \"C:/Users/testm/Downloads/a.pdf\"  # Path to PDF\n",
    "output_path = \"D:/BigDataIntelligence/data\"  # Path to save images\n",
    "\n",
    "extract_images_and_text(pdf_path, output_path)\n"
   ]
  }
 ],
 "metadata": {
  "kernelspec": {
   "display_name": "Python 3",
   "language": "python",
   "name": "python3"
  },
  "language_info": {
   "codemirror_mode": {
    "name": "ipython",
    "version": 3
   },
   "file_extension": ".py",
   "mimetype": "text/x-python",
   "name": "python",
   "nbconvert_exporter": "python",
   "pygments_lexer": "ipython3",
   "version": "3.10.4"
  }
 },
 "nbformat": 4,
 "nbformat_minor": 2
}
